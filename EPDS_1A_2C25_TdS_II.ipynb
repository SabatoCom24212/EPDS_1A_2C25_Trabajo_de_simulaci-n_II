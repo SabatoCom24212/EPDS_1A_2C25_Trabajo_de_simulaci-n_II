{
  "cells": [
    {
      "cell_type": "markdown",
      "metadata": {
        "id": "Uoe78x1ck9Q3"
      },
      "source": [
        "# EPDS_1A_2C25_TdS_II\n",
        "\n"
      ]
    },
    {
      "cell_type": "markdown",
      "metadata": {},
      "source": [
        "**Grupo**: Rinaldi, Flavio; Sabato, Ángel; Shifman, Iván Ezequiel; Zárate, Marcelo."
      ]
    },
    {
      "cell_type": "markdown",
      "metadata": {
        "id": "qZ_EPsV_P491"
      },
      "source": [
        "## Simulación (ejercicio a entregar)\n",
        "\n",
        "Armar una simulación basada en $N=100$ repeticiones que permita estimar el promedio de paquetes necesarios para conseguir llenar el álbum de figuritas del Mundial Qatar 2022. **[OPCIONAL]** Si es posible, representar el histograma de la cantidad de paquetes necesarios para completar el álbum a partir de la simulación. Puede usarse ``import seaborn as sns`` y ``sns.histplot()``.\n",
        "\n",
        "A diferencia de la resolución a mano, aquí propondremos una versión más realista: el álbum del Mundial Qatar 2022 tiene ``figus_total=860`` y vamos a suponer que el paquete no trae una figurita, sino varias: ``figus_paquete=5``. Además, Panini, empresa creadora del álbum del Mundial Qatar 2022, asegura que NO vienen figuritas repetidas por paquete. Para resolver este problema, podés optar por simularlo de acuerdo con esto que asegura Panini, o no. Es tu elección.\n",
        "\n",
        "\n",
        "**[PISTAS]** Para la construcción de la simulación, se sugiere la siguiente estructura, ya que no hemos estimado otra cosa que no sean probabilidades y, para este problema, necesitamos estimar una esperanza.\n",
        "\n",
        "1.  Para el armado del bullet \"1. Experimento aleatorio\", definir la función ``cuantos_paquetes(figus_total, figus_paquete)`` que dado el tamaño del álbum (``figus_total``) y la cantidad de figuritas por paquete (``figus_paquete``) genere un álbum nuevo, simule su llenado y devuelva cuántos paquetes se debieron comprar para completarlo.\n",
        "2.  Para el armado del bullet \"2: Muestra aleatoria\", definir una semilla, fijar ``N`` y armar ``N=100`` muestras de ``cuantos_paquetes(figus_total, figus_paquete)`` que se guarden en ``muestras``.\n",
        "3.  En esta instancia, como vimos, estaríamos armando el bullet \"3: Una función _filtro_ que caracteriza el evento E\" para luego estimar $P(E)$ por la frecuencia relativa de su aparición en las $N$ muestras. Sin embargo, aquí no hay evento para estimar: lo que queremos estimar es una esperanza. Para hacerlo, la aproximaremos por su promedio muestral, es decir, por el promedio de lo observado en ``muestras``. Para ello, podés usar el comando ``np.mean(muestras)``. Esto nos dará una estimación del promedio de paquetes necesarios para completar un álbum del Mundial Qatar 2022 a partir de una simulación de $N$ replicaciones.\n",
        "\n",
        "**[SUGERENCIA PARA EL BULLET 1]** Armar la función ``cuantos_paquetes(figus_total, figus_paquete)`` puede ser desafiante. Te compartimos una posible estructura que puede ayudarte a implementarla.\n",
        "\n",
        "- Implementá una función ``crear_album(figus_total)`` para crear un vector ``album`` que tenga un total de ``figus_total`` ceros. Es decir, vamos a representar al álbum por un vector en el que cada posición representa el estado de una figurita con dos valores: 0, para indicar que aún no la conseguimos, y 1, para indicar que sí. El álbum se inicia con todas sus posiciones en 0, hasta que empezamos a comprar figuritas y pegarlas.\n",
        "\n",
        "- Implementá una función ``comprar_paquete(figus_total,figus_paquete)`` que, dada la cantidad de figuritas por paquete (figus_paquete), genere un ``paquete`` (lista) de figuritas al azar. Si respetamos lo que afirma Panini de que no hay figuritas repetidas por paquete, usá el comando ``rd.sample``, ya que estaremos tomando una muestra de figuritas sin reposición.\n",
        "\n",
        "- Implementá la función ``pegar_figus(album,paquete)`` que complete con un 1 las figuritas del álbum que te hayan tocado. Recordá que los vectores se indexan desde 0, entonces, te va a convenir que la posición ``[i]`` del ``album`` toma el valor 1 si alguno de los elementos de la lista ``figus`` contiene al valor ``i``. Pero, para eso, generá las figuritan en ``range(0,figus_total)``, es decir, figuritas que toman valores de 0 hasta ``figus_total-1``. Lo importante es que aquellas figuritas que no te hayan tocado conserven el 0 en la posición correspondiente del vector ``album``. En este problema, no abordamos la complejidad que significaría intercambian y considerar todas las repetidas que podés tener.\n",
        "\n",
        "- Implementá la función ``album_incompleto(album)`` que recibe un vector ``album`` y devuelve ``True`` si el álbum ``A`` no está completo y ``False`` si lo está. Recordá que un álbum estará incompleto siempre que haya al menos un cero en alguna de sus posiciones.\n",
        "\n",
        "- Por último, utilizá todas estas funciones para crear una única función que las invoque y que se llame ``cuantos_paquetes(figus_total, figus_paquete)`` que cuente la cantidad de paquetes necesarios hasta completar el álbum. Necesitarás usar la estructura de control ``while()``, pues comprarás paquetes mientras el álbum siga incompleto; y deberás generar un contador de ``paquetes_comprados`` que arranque en 0 y sume un 1 cada vez que compres un nuevo paquete."
      ]
    },
    {
      "cell_type": "markdown",
      "metadata": {},
      "source": [
        "## Nuestra solución:"
      ]
    },
    {
      "cell_type": "code",
      "execution_count": 21,
      "metadata": {},
      "outputs": [],
      "source": [
        "import numpy as np\n",
        "import random as rd\n",
        "import plotly.graph_objects as go\n",
        "from plotly.subplots import make_subplots\n",
        "from typing import List, Tuple"
      ]
    },
    {
      "cell_type": "markdown",
      "metadata": {},
      "source": [
        "Comenzamos por establecer las variables constantes que vamos a utilizar:"
      ]
    },
    {
      "cell_type": "code",
      "execution_count": 22,
      "metadata": {},
      "outputs": [],
      "source": [
        "FIGUS_TOTAL: int = 860   # Cantidad de figuritas en el álbum\n",
        "FIGUS_PAQUETE: int = 5   # Figuritas por paquete\n",
        "N: int = 100             # Número de simulaciones a realizar"
      ]
    },
    {
      "cell_type": "markdown",
      "metadata": {},
      "source": [
        "La función _crear_album_ crea un álbum vacío (array con ceros de Numpy)"
      ]
    },
    {
      "cell_type": "code",
      "execution_count": 23,
      "metadata": {},
      "outputs": [],
      "source": [
        "def crear_album(figus_total: int) -> np.ndarray:\n",
        "    \"\"\"\n",
        "    Crea un álbum vacío.\n",
        "    Representamos el álbum como un vector de ceros (0 = figurita faltante, 1 = figurita conseguida).\n",
        "    \"\"\"\n",
        "    return np.zeros(figus_total)"
      ]
    },
    {
      "cell_type": "markdown",
      "metadata": {},
      "source": [
        "Simulamos la _compra_ de un paquete de figuritas sin repetidas:"
      ]
    },
    {
      "cell_type": "code",
      "execution_count": 24,
      "metadata": {},
      "outputs": [],
      "source": [
        "def comprar_paquete(figus_total: int, figus_paquete: int) -> List[int]:\n",
        "    \"\"\"\n",
        "    Genera un paquete de figuritas elegido al azar.\n",
        "    Usamos 'rd.sample' para garantizar que NO haya repetidas dentro del mismo paquete\n",
        "    (tal como asegura Panini).\n",
        "    \"\"\"\n",
        "    return rd.sample(range(0, figus_total), figus_paquete)"
      ]
    },
    {
      "cell_type": "markdown",
      "metadata": {},
      "source": [
        "Luego _pegamos_ las figuritas del paquete:"
      ]
    },
    {
      "cell_type": "code",
      "execution_count": 25,
      "metadata": {},
      "outputs": [],
      "source": [
        "def pegar_figus(album: np.ndarray, paquete: List[int]) -> np.ndarray:\n",
        "    \"\"\"\n",
        "    Marca en el álbum las figuritas obtenidas en un paquete.\n",
        "    Simplemente cambiamos el valor de esas posiciones a 1.\n",
        "    \"\"\"\n",
        "    album[paquete] = 1\n",
        "    return album"
      ]
    },
    {
      "cell_type": "markdown",
      "metadata": {},
      "source": [
        "Verificamos si el álbum sigue incompleto utilizando operadores de comparación:"
      ]
    },
    {
      "cell_type": "code",
      "execution_count": 26,
      "metadata": {},
      "outputs": [],
      "source": [
        "def album_incompleto(album: np.ndarray) -> bool:\n",
        "    \"\"\"\n",
        "    Verifica si el álbum aún está incompleto.\n",
        "    Retorna True si existe al menos un cero en el vector.\n",
        "    \"\"\"\n",
        "    return (album > 0).sum() < len(album)"
      ]
    },
    {
      "cell_type": "markdown",
      "metadata": {},
      "source": [
        "Finalmente, simulamos el álbum completo y contamos los paquetes necesarios:"
      ]
    },
    {
      "cell_type": "code",
      "execution_count": 27,
      "metadata": {},
      "outputs": [],
      "source": [
        "def cuantos_paquetes(figus_total: int, figus_paquete: int) -> int:\n",
        "    \"\"\"\n",
        "    Simula el proceso de llenar un álbum de figus_total figuritas,\n",
        "    comprando paquetes de figus_paquete hasta completarlo.\n",
        "    Devuelve la cantidad de paquetes comprados.\n",
        "    \"\"\"\n",
        "    album = crear_album(figus_total)\n",
        "    paquetes_comprados = 0\n",
        "\n",
        "    while album_incompleto(album):  # Repetimos hasta completar el álbum\n",
        "        paquete = comprar_paquete(figus_total, figus_paquete)\n",
        "        paquetes_comprados += 1\n",
        "        album = pegar_figus(album, paquete)\n",
        "\n",
        "    return paquetes_comprados"
      ]
    },
    {
      "cell_type": "markdown",
      "metadata": {},
      "source": [
        "Ejecutamos varias simulaciones de _llenado_ del álbum:"
      ]
    },
    {
      "cell_type": "code",
      "execution_count": 28,
      "metadata": {},
      "outputs": [],
      "source": [
        "def ejecutar_simulacion(figus_total: int, figus_paquete: int, N: int,\n",
        "                       seed: int = 123) -> Tuple[List[int], float]:\n",
        "    \"\"\"\n",
        "    Ejecuta la simulación N veces y devuelve:\n",
        "    - resultados: lista con los paquetes necesarios en cada simulación\n",
        "    - promedio: el promedio de paquetes necesarios (estimador de la esperanza)\n",
        "    \"\"\"\n",
        "    rd.seed(seed)  # Semilla para reproducibilidad\n",
        "\n",
        "    resultados = [cuantos_paquetes(figus_total, figus_paquete) for _ in range(N)]\n",
        "    promedio = np.mean(resultados)\n",
        "\n",
        "    return resultados, promedio"
      ]
    },
    {
      "cell_type": "markdown",
      "metadata": {},
      "source": [
        "Creamos las visualizaciones interactivas con [Plotly](https://plotly.com/python/):"
      ]
    },
    {
      "cell_type": "code",
      "execution_count": 29,
      "metadata": {},
      "outputs": [],
      "source": [
        "def crear_visualizaciones_interactivas(resultados: List[int], promedio: float,\n",
        "                                      figus_total: int, figus_paquete: int) -> None:\n",
        "    \"\"\"\n",
        "    Crea un dashboard interactivo con:\n",
        "    - Histograma de paquetes necesarios\n",
        "    - Convergencia del promedio a medida que aumentan las simulaciones\n",
        "    - Tabla con estadísticas de la simulación\n",
        "    \"\"\"\n",
        "    fig = make_subplots(\n",
        "        rows=2, cols=2,\n",
        "        subplot_titles=('Histograma de Paquetes Necesarios', \n",
        "                       'Convergencia del Promedio',\n",
        "                       'Estadísticas de la Simulación'),\n",
        "        specs=[[{\"type\": \"histogram\", \"colspan\": 2}, None],\n",
        "               [{\"type\": \"scatter\"}, {\"type\": \"table\"}]],\n",
        "        vertical_spacing=0.12,\n",
        "        horizontal_spacing=0.1\n",
        "    )\n",
        "\n",
        "    # Histograma de resultados\n",
        "    fig.add_trace(\n",
        "        go.Histogram(\n",
        "            x=resultados,\n",
        "            nbinsx=25,\n",
        "            name=\"Paquetes necesarios\",\n",
        "            hovertemplate=\"Paquetes: %{x}<br>Frecuencia: %{y}<extra></extra>\",\n",
        "            marker_color='lightblue',\n",
        "            marker_line_color='darkblue',\n",
        "            marker_line_width=1,\n",
        "            opacity=0.8\n",
        "        ),\n",
        "        row=1, col=1\n",
        "    )\n",
        "\n",
        "    # Línea del promedio en el histograma\n",
        "    fig.add_vline(\n",
        "        x=promedio, \n",
        "        line_dash=\"dash\", \n",
        "        line_color=\"red\",\n",
        "        line_width=3,\n",
        "        annotation_text=f\"Promedio: {promedio:.0f} paquetes\",\n",
        "        annotation_position=\"top right\",\n",
        "        annotation_font_size=12,\n",
        "        annotation_font_color=\"red\",\n",
        "        annotation_yshift=10,\n",
        "        row=1, col=1\n",
        "    )\n",
        "\n",
        "    # Evolución del promedio acumulado\n",
        "    promedios_acumulados = [np.mean(resultados[:i+1]) for i in range(len(resultados))]\n",
        "    fig.add_trace(\n",
        "        go.Scatter(\n",
        "            x=list(range(1, len(resultados) + 1)),\n",
        "            y=promedios_acumulados,\n",
        "            mode='lines',\n",
        "            name='Promedio acumulado',\n",
        "            hovertemplate=\"Simulación: %{x}<br>Promedio: %{y:.2f}<extra></extra>\",\n",
        "            line=dict(color='purple', width=2)\n",
        "        ),\n",
        "        row=2, col=1\n",
        "    )\n",
        "\n",
        "    # Línea horizontal con el promedio final\n",
        "    fig.add_hline(\n",
        "        y=promedio, \n",
        "        line_dash=\"dash\", \n",
        "        line_color=\"red\",\n",
        "        line_width=2,\n",
        "        annotation_text=f\"Promedio final: {promedio:.0f}\",\n",
        "        annotation_position=\"top left\", \n",
        "        annotation_font_size=12,\n",
        "        annotation_font_color=\"red\",\n",
        "        row=2, col=1\n",
        "    )\n",
        "\n",
        "    # Tabla resumen\n",
        "    fig.add_trace(\n",
        "        go.Table(\n",
        "            header=dict(values=['Estadística', 'Valor'],\n",
        "                       fill_color='lightblue',\n",
        "                       align='center',\n",
        "                       font_size=14,\n",
        "                       font_color='white'),\n",
        "            cells=dict(values=[\n",
        "                ['Figuritas totales', 'Figuritas por paquete', 'Simulaciones',\n",
        "                 'Promedio paquetes', 'Mínimo', 'Máximo'],\n",
        "                [figus_total, figus_paquete, len(resultados),\n",
        "                 f'{promedio:.0f}', min(resultados), max(resultados)]\n",
        "            ],\n",
        "            fill_color='aliceblue',\n",
        "            align=['left', 'center'],\n",
        "            font_size=12,\n",
        "            height=35)\n",
        "        ),\n",
        "        row=2, col=2\n",
        "    )\n",
        "\n",
        "    # Ajustes de estilo\n",
        "    fig.update_layout(\n",
        "        title_text=f\"Simulación: Álbum Mundial Qatar 2022 ({len(resultados)} simulaciones)\",\n",
        "        title_font_size=18,\n",
        "        title_x=0.5,\n",
        "        showlegend=False,\n",
        "        height=700,  \n",
        "        hovermode='closest',\n",
        "        plot_bgcolor='white'\n",
        "    )\n",
        "\n",
        "    fig.show()\n",
        "    return fig"
      ]
    },
    {
      "cell_type": "markdown",
      "metadata": {},
      "source": [
        "Tras realizar las simulaciones, podemos afirmar que el promedio de paquetes necesarios es 1256:"
      ]
    },
    {
      "cell_type": "code",
      "execution_count": 30,
      "metadata": {},
      "outputs": [
        {
          "data": {
            "application/vnd.plotly.v1+json": {
              "config": {
                "plotlyServerURL": "https://plot.ly"
              },
              "data": [
                {
                  "hovertemplate": "Paquetes: %{x}<br>Frecuencia: %{y}<extra></extra>",
                  "marker": {
                    "color": "lightblue",
                    "line": {
                      "color": "darkblue",
                      "width": 1
                    }
                  },
                  "name": "Paquetes necesarios",
                  "nbinsx": 25,
                  "opacity": 0.8,
                  "type": "histogram",
                  "x": [
                    1446,
                    1163,
                    1651,
                    1600,
                    1535,
                    1049,
                    1419,
                    1142,
                    1306,
                    1465,
                    1252,
                    1382,
                    1152,
                    1391,
                    1118,
                    1290,
                    1450,
                    1145,
                    1099,
                    1468,
                    1168,
                    1014,
                    1066,
                    1891,
                    1224,
                    1054,
                    1090,
                    1241,
                    1109,
                    1725,
                    1405,
                    868,
                    1188,
                    1043,
                    1249,
                    1181,
                    1202,
                    1356,
                    1178,
                    1005,
                    1192,
                    1110,
                    894,
                    1094,
                    1162,
                    1549,
                    1461,
                    1067,
                    1398,
                    1200,
                    1248,
                    1232,
                    1606,
                    1188,
                    1447,
                    1450,
                    1436,
                    1017,
                    1145,
                    1470,
                    1288,
                    1260,
                    1839,
                    1013,
                    977,
                    1334,
                    891,
                    1121,
                    1059,
                    1086,
                    1228,
                    1268,
                    1336,
                    1557,
                    1822,
                    1065,
                    1259,
                    1625,
                    1089,
                    1163,
                    1008,
                    1074,
                    1181,
                    2014,
                    1208,
                    936,
                    1075,
                    1181,
                    1403,
                    1314,
                    1178,
                    1307,
                    1149,
                    1246,
                    1193,
                    1301,
                    1408,
                    1005,
                    952,
                    1089
                  ],
                  "xaxis": "x",
                  "yaxis": "y"
                },
                {
                  "hovertemplate": "Simulación: %{x}<br>Promedio: %{y:.2f}<extra></extra>",
                  "line": {
                    "color": "purple",
                    "width": 2
                  },
                  "mode": "lines",
                  "name": "Promedio acumulado",
                  "type": "scatter",
                  "x": [
                    1,
                    2,
                    3,
                    4,
                    5,
                    6,
                    7,
                    8,
                    9,
                    10,
                    11,
                    12,
                    13,
                    14,
                    15,
                    16,
                    17,
                    18,
                    19,
                    20,
                    21,
                    22,
                    23,
                    24,
                    25,
                    26,
                    27,
                    28,
                    29,
                    30,
                    31,
                    32,
                    33,
                    34,
                    35,
                    36,
                    37,
                    38,
                    39,
                    40,
                    41,
                    42,
                    43,
                    44,
                    45,
                    46,
                    47,
                    48,
                    49,
                    50,
                    51,
                    52,
                    53,
                    54,
                    55,
                    56,
                    57,
                    58,
                    59,
                    60,
                    61,
                    62,
                    63,
                    64,
                    65,
                    66,
                    67,
                    68,
                    69,
                    70,
                    71,
                    72,
                    73,
                    74,
                    75,
                    76,
                    77,
                    78,
                    79,
                    80,
                    81,
                    82,
                    83,
                    84,
                    85,
                    86,
                    87,
                    88,
                    89,
                    90,
                    91,
                    92,
                    93,
                    94,
                    95,
                    96,
                    97,
                    98,
                    99,
                    100
                  ],
                  "xaxis": "x2",
                  "y": [
                    1446,
                    1304.5,
                    1420,
                    1465,
                    1479,
                    1407.3333333333333,
                    1409,
                    1375.625,
                    1367.888888888889,
                    1377.6,
                    1366.1818181818182,
                    1367.5,
                    1350.923076923077,
                    1353.7857142857142,
                    1338.0666666666666,
                    1335.0625,
                    1341.8235294117646,
                    1330.888888888889,
                    1318.6842105263158,
                    1326.15,
                    1318.6190476190477,
                    1304.7727272727273,
                    1294.391304347826,
                    1319.25,
                    1315.44,
                    1305.3846153846155,
                    1297.4074074074074,
                    1295.392857142857,
                    1288.9655172413793,
                    1303.5,
                    1306.774193548387,
                    1293.0625,
                    1289.878787878788,
                    1282.6176470588234,
                    1281.6571428571428,
                    1278.861111111111,
                    1276.7837837837837,
                    1278.8684210526317,
                    1276.2820512820513,
                    1269.5,
                    1267.6097560975609,
                    1263.857142857143,
                    1255.2558139534883,
                    1251.590909090909,
                    1249.6,
                    1256.108695652174,
                    1260.468085106383,
                    1256.4375,
                    1259.3265306122448,
                    1258.14,
                    1257.9411764705883,
                    1257.4423076923076,
                    1264.0188679245282,
                    1262.611111111111,
                    1265.9636363636364,
                    1269.25,
                    1272.1754385964912,
                    1267.7758620689656,
                    1265.6949152542372,
                    1269.1,
                    1269.4098360655737,
                    1269.258064516129,
                    1278.3015873015872,
                    1274.15625,
                    1269.5846153846153,
                    1270.560606060606,
                    1264.8955223880596,
                    1262.7794117647059,
                    1259.8260869565217,
                    1257.3428571428572,
                    1256.9295774647887,
                    1257.0833333333333,
                    1258.164383561644,
                    1262.2027027027027,
                    1269.6666666666667,
                    1266.9736842105262,
                    1266.8701298701299,
                    1271.4615384615386,
                    1269.1518987341772,
                    1267.825,
                    1264.6172839506173,
                    1262.2926829268292,
                    1261.313253012048,
                    1270.2738095238096,
                    1269.5411764705882,
                    1265.6627906976744,
                    1263.471264367816,
                    1262.534090909091,
                    1264.112359550562,
                    1264.6666666666667,
                    1263.7142857142858,
                    1264.1847826086957,
                    1262.9462365591398,
                    1262.7659574468084,
                    1262.0315789473684,
                    1262.4375,
                    1263.9381443298969,
                    1261.295918367347,
                    1258.171717171717,
                    1256.48
                  ],
                  "yaxis": "y2"
                },
                {
                  "cells": {
                    "align": [
                      "left",
                      "center"
                    ],
                    "fill": {
                      "color": "aliceblue"
                    },
                    "font": {
                      "size": 12
                    },
                    "height": 35,
                    "values": [
                      [
                        "Figuritas totales",
                        "Figuritas por paquete",
                        "Simulaciones",
                        "Promedio paquetes",
                        "Mínimo",
                        "Máximo"
                      ],
                      [
                        860,
                        5,
                        100,
                        "1256",
                        868,
                        2014
                      ]
                    ]
                  },
                  "domain": {
                    "x": [
                      0.55,
                      1
                    ],
                    "y": [
                      0,
                      0.44
                    ]
                  },
                  "header": {
                    "align": "center",
                    "fill": {
                      "color": "lightblue"
                    },
                    "font": {
                      "color": "white",
                      "size": 14
                    },
                    "values": [
                      "Estadística",
                      "Valor"
                    ]
                  },
                  "type": "table"
                }
              ],
              "layout": {
                "annotations": [
                  {
                    "font": {
                      "size": 16
                    },
                    "showarrow": false,
                    "text": "Histograma de Paquetes Necesarios",
                    "x": 0.5,
                    "xanchor": "center",
                    "xref": "paper",
                    "y": 1,
                    "yanchor": "bottom",
                    "yref": "paper"
                  },
                  {
                    "font": {
                      "size": 16
                    },
                    "showarrow": false,
                    "text": "Convergencia del Promedio",
                    "x": 0.225,
                    "xanchor": "center",
                    "xref": "paper",
                    "y": 0.44,
                    "yanchor": "bottom",
                    "yref": "paper"
                  },
                  {
                    "font": {
                      "size": 16
                    },
                    "showarrow": false,
                    "text": "Estadísticas de la Simulación",
                    "x": 0.775,
                    "xanchor": "center",
                    "xref": "paper",
                    "y": 0.44,
                    "yanchor": "bottom",
                    "yref": "paper"
                  },
                  {
                    "font": {
                      "color": "red",
                      "size": 12
                    },
                    "showarrow": false,
                    "text": "Promedio: 1256 paquetes",
                    "x": 1256.48,
                    "xanchor": "left",
                    "xref": "x",
                    "y": 1,
                    "yanchor": "top",
                    "yref": "y domain",
                    "yshift": 10
                  },
                  {
                    "font": {
                      "color": "red",
                      "size": 12
                    },
                    "showarrow": false,
                    "text": "Promedio final: 1256",
                    "x": 0,
                    "xanchor": "left",
                    "xref": "x2 domain",
                    "y": 1256.48,
                    "yanchor": "bottom",
                    "yref": "y2"
                  }
                ],
                "height": 700,
                "hovermode": "closest",
                "plot_bgcolor": "white",
                "shapes": [
                  {
                    "line": {
                      "color": "red",
                      "dash": "dash",
                      "width": 3
                    },
                    "type": "line",
                    "x0": 1256.48,
                    "x1": 1256.48,
                    "xref": "x",
                    "y0": 0,
                    "y1": 1,
                    "yref": "y domain"
                  },
                  {
                    "line": {
                      "color": "red",
                      "dash": "dash",
                      "width": 2
                    },
                    "type": "line",
                    "x0": 0,
                    "x1": 1,
                    "xref": "x2 domain",
                    "y0": 1256.48,
                    "y1": 1256.48,
                    "yref": "y2"
                  }
                ],
                "showlegend": false,
                "template": {
                  "data": {
                    "bar": [
                      {
                        "error_x": {
                          "color": "#2a3f5f"
                        },
                        "error_y": {
                          "color": "#2a3f5f"
                        },
                        "marker": {
                          "line": {
                            "color": "#E5ECF6",
                            "width": 0.5
                          },
                          "pattern": {
                            "fillmode": "overlay",
                            "size": 10,
                            "solidity": 0.2
                          }
                        },
                        "type": "bar"
                      }
                    ],
                    "barpolar": [
                      {
                        "marker": {
                          "line": {
                            "color": "#E5ECF6",
                            "width": 0.5
                          },
                          "pattern": {
                            "fillmode": "overlay",
                            "size": 10,
                            "solidity": 0.2
                          }
                        },
                        "type": "barpolar"
                      }
                    ],
                    "carpet": [
                      {
                        "aaxis": {
                          "endlinecolor": "#2a3f5f",
                          "gridcolor": "white",
                          "linecolor": "white",
                          "minorgridcolor": "white",
                          "startlinecolor": "#2a3f5f"
                        },
                        "baxis": {
                          "endlinecolor": "#2a3f5f",
                          "gridcolor": "white",
                          "linecolor": "white",
                          "minorgridcolor": "white",
                          "startlinecolor": "#2a3f5f"
                        },
                        "type": "carpet"
                      }
                    ],
                    "choropleth": [
                      {
                        "colorbar": {
                          "outlinewidth": 0,
                          "ticks": ""
                        },
                        "type": "choropleth"
                      }
                    ],
                    "contour": [
                      {
                        "colorbar": {
                          "outlinewidth": 0,
                          "ticks": ""
                        },
                        "colorscale": [
                          [
                            0,
                            "#0d0887"
                          ],
                          [
                            0.1111111111111111,
                            "#46039f"
                          ],
                          [
                            0.2222222222222222,
                            "#7201a8"
                          ],
                          [
                            0.3333333333333333,
                            "#9c179e"
                          ],
                          [
                            0.4444444444444444,
                            "#bd3786"
                          ],
                          [
                            0.5555555555555556,
                            "#d8576b"
                          ],
                          [
                            0.6666666666666666,
                            "#ed7953"
                          ],
                          [
                            0.7777777777777778,
                            "#fb9f3a"
                          ],
                          [
                            0.8888888888888888,
                            "#fdca26"
                          ],
                          [
                            1,
                            "#f0f921"
                          ]
                        ],
                        "type": "contour"
                      }
                    ],
                    "contourcarpet": [
                      {
                        "colorbar": {
                          "outlinewidth": 0,
                          "ticks": ""
                        },
                        "type": "contourcarpet"
                      }
                    ],
                    "heatmap": [
                      {
                        "colorbar": {
                          "outlinewidth": 0,
                          "ticks": ""
                        },
                        "colorscale": [
                          [
                            0,
                            "#0d0887"
                          ],
                          [
                            0.1111111111111111,
                            "#46039f"
                          ],
                          [
                            0.2222222222222222,
                            "#7201a8"
                          ],
                          [
                            0.3333333333333333,
                            "#9c179e"
                          ],
                          [
                            0.4444444444444444,
                            "#bd3786"
                          ],
                          [
                            0.5555555555555556,
                            "#d8576b"
                          ],
                          [
                            0.6666666666666666,
                            "#ed7953"
                          ],
                          [
                            0.7777777777777778,
                            "#fb9f3a"
                          ],
                          [
                            0.8888888888888888,
                            "#fdca26"
                          ],
                          [
                            1,
                            "#f0f921"
                          ]
                        ],
                        "type": "heatmap"
                      }
                    ],
                    "histogram": [
                      {
                        "marker": {
                          "pattern": {
                            "fillmode": "overlay",
                            "size": 10,
                            "solidity": 0.2
                          }
                        },
                        "type": "histogram"
                      }
                    ],
                    "histogram2d": [
                      {
                        "colorbar": {
                          "outlinewidth": 0,
                          "ticks": ""
                        },
                        "colorscale": [
                          [
                            0,
                            "#0d0887"
                          ],
                          [
                            0.1111111111111111,
                            "#46039f"
                          ],
                          [
                            0.2222222222222222,
                            "#7201a8"
                          ],
                          [
                            0.3333333333333333,
                            "#9c179e"
                          ],
                          [
                            0.4444444444444444,
                            "#bd3786"
                          ],
                          [
                            0.5555555555555556,
                            "#d8576b"
                          ],
                          [
                            0.6666666666666666,
                            "#ed7953"
                          ],
                          [
                            0.7777777777777778,
                            "#fb9f3a"
                          ],
                          [
                            0.8888888888888888,
                            "#fdca26"
                          ],
                          [
                            1,
                            "#f0f921"
                          ]
                        ],
                        "type": "histogram2d"
                      }
                    ],
                    "histogram2dcontour": [
                      {
                        "colorbar": {
                          "outlinewidth": 0,
                          "ticks": ""
                        },
                        "colorscale": [
                          [
                            0,
                            "#0d0887"
                          ],
                          [
                            0.1111111111111111,
                            "#46039f"
                          ],
                          [
                            0.2222222222222222,
                            "#7201a8"
                          ],
                          [
                            0.3333333333333333,
                            "#9c179e"
                          ],
                          [
                            0.4444444444444444,
                            "#bd3786"
                          ],
                          [
                            0.5555555555555556,
                            "#d8576b"
                          ],
                          [
                            0.6666666666666666,
                            "#ed7953"
                          ],
                          [
                            0.7777777777777778,
                            "#fb9f3a"
                          ],
                          [
                            0.8888888888888888,
                            "#fdca26"
                          ],
                          [
                            1,
                            "#f0f921"
                          ]
                        ],
                        "type": "histogram2dcontour"
                      }
                    ],
                    "mesh3d": [
                      {
                        "colorbar": {
                          "outlinewidth": 0,
                          "ticks": ""
                        },
                        "type": "mesh3d"
                      }
                    ],
                    "parcoords": [
                      {
                        "line": {
                          "colorbar": {
                            "outlinewidth": 0,
                            "ticks": ""
                          }
                        },
                        "type": "parcoords"
                      }
                    ],
                    "pie": [
                      {
                        "automargin": true,
                        "type": "pie"
                      }
                    ],
                    "scatter": [
                      {
                        "fillpattern": {
                          "fillmode": "overlay",
                          "size": 10,
                          "solidity": 0.2
                        },
                        "type": "scatter"
                      }
                    ],
                    "scatter3d": [
                      {
                        "line": {
                          "colorbar": {
                            "outlinewidth": 0,
                            "ticks": ""
                          }
                        },
                        "marker": {
                          "colorbar": {
                            "outlinewidth": 0,
                            "ticks": ""
                          }
                        },
                        "type": "scatter3d"
                      }
                    ],
                    "scattercarpet": [
                      {
                        "marker": {
                          "colorbar": {
                            "outlinewidth": 0,
                            "ticks": ""
                          }
                        },
                        "type": "scattercarpet"
                      }
                    ],
                    "scattergeo": [
                      {
                        "marker": {
                          "colorbar": {
                            "outlinewidth": 0,
                            "ticks": ""
                          }
                        },
                        "type": "scattergeo"
                      }
                    ],
                    "scattergl": [
                      {
                        "marker": {
                          "colorbar": {
                            "outlinewidth": 0,
                            "ticks": ""
                          }
                        },
                        "type": "scattergl"
                      }
                    ],
                    "scattermap": [
                      {
                        "marker": {
                          "colorbar": {
                            "outlinewidth": 0,
                            "ticks": ""
                          }
                        },
                        "type": "scattermap"
                      }
                    ],
                    "scattermapbox": [
                      {
                        "marker": {
                          "colorbar": {
                            "outlinewidth": 0,
                            "ticks": ""
                          }
                        },
                        "type": "scattermapbox"
                      }
                    ],
                    "scatterpolar": [
                      {
                        "marker": {
                          "colorbar": {
                            "outlinewidth": 0,
                            "ticks": ""
                          }
                        },
                        "type": "scatterpolar"
                      }
                    ],
                    "scatterpolargl": [
                      {
                        "marker": {
                          "colorbar": {
                            "outlinewidth": 0,
                            "ticks": ""
                          }
                        },
                        "type": "scatterpolargl"
                      }
                    ],
                    "scatterternary": [
                      {
                        "marker": {
                          "colorbar": {
                            "outlinewidth": 0,
                            "ticks": ""
                          }
                        },
                        "type": "scatterternary"
                      }
                    ],
                    "surface": [
                      {
                        "colorbar": {
                          "outlinewidth": 0,
                          "ticks": ""
                        },
                        "colorscale": [
                          [
                            0,
                            "#0d0887"
                          ],
                          [
                            0.1111111111111111,
                            "#46039f"
                          ],
                          [
                            0.2222222222222222,
                            "#7201a8"
                          ],
                          [
                            0.3333333333333333,
                            "#9c179e"
                          ],
                          [
                            0.4444444444444444,
                            "#bd3786"
                          ],
                          [
                            0.5555555555555556,
                            "#d8576b"
                          ],
                          [
                            0.6666666666666666,
                            "#ed7953"
                          ],
                          [
                            0.7777777777777778,
                            "#fb9f3a"
                          ],
                          [
                            0.8888888888888888,
                            "#fdca26"
                          ],
                          [
                            1,
                            "#f0f921"
                          ]
                        ],
                        "type": "surface"
                      }
                    ],
                    "table": [
                      {
                        "cells": {
                          "fill": {
                            "color": "#EBF0F8"
                          },
                          "line": {
                            "color": "white"
                          }
                        },
                        "header": {
                          "fill": {
                            "color": "#C8D4E3"
                          },
                          "line": {
                            "color": "white"
                          }
                        },
                        "type": "table"
                      }
                    ]
                  },
                  "layout": {
                    "annotationdefaults": {
                      "arrowcolor": "#2a3f5f",
                      "arrowhead": 0,
                      "arrowwidth": 1
                    },
                    "autotypenumbers": "strict",
                    "coloraxis": {
                      "colorbar": {
                        "outlinewidth": 0,
                        "ticks": ""
                      }
                    },
                    "colorscale": {
                      "diverging": [
                        [
                          0,
                          "#8e0152"
                        ],
                        [
                          0.1,
                          "#c51b7d"
                        ],
                        [
                          0.2,
                          "#de77ae"
                        ],
                        [
                          0.3,
                          "#f1b6da"
                        ],
                        [
                          0.4,
                          "#fde0ef"
                        ],
                        [
                          0.5,
                          "#f7f7f7"
                        ],
                        [
                          0.6,
                          "#e6f5d0"
                        ],
                        [
                          0.7,
                          "#b8e186"
                        ],
                        [
                          0.8,
                          "#7fbc41"
                        ],
                        [
                          0.9,
                          "#4d9221"
                        ],
                        [
                          1,
                          "#276419"
                        ]
                      ],
                      "sequential": [
                        [
                          0,
                          "#0d0887"
                        ],
                        [
                          0.1111111111111111,
                          "#46039f"
                        ],
                        [
                          0.2222222222222222,
                          "#7201a8"
                        ],
                        [
                          0.3333333333333333,
                          "#9c179e"
                        ],
                        [
                          0.4444444444444444,
                          "#bd3786"
                        ],
                        [
                          0.5555555555555556,
                          "#d8576b"
                        ],
                        [
                          0.6666666666666666,
                          "#ed7953"
                        ],
                        [
                          0.7777777777777778,
                          "#fb9f3a"
                        ],
                        [
                          0.8888888888888888,
                          "#fdca26"
                        ],
                        [
                          1,
                          "#f0f921"
                        ]
                      ],
                      "sequentialminus": [
                        [
                          0,
                          "#0d0887"
                        ],
                        [
                          0.1111111111111111,
                          "#46039f"
                        ],
                        [
                          0.2222222222222222,
                          "#7201a8"
                        ],
                        [
                          0.3333333333333333,
                          "#9c179e"
                        ],
                        [
                          0.4444444444444444,
                          "#bd3786"
                        ],
                        [
                          0.5555555555555556,
                          "#d8576b"
                        ],
                        [
                          0.6666666666666666,
                          "#ed7953"
                        ],
                        [
                          0.7777777777777778,
                          "#fb9f3a"
                        ],
                        [
                          0.8888888888888888,
                          "#fdca26"
                        ],
                        [
                          1,
                          "#f0f921"
                        ]
                      ]
                    },
                    "colorway": [
                      "#636efa",
                      "#EF553B",
                      "#00cc96",
                      "#ab63fa",
                      "#FFA15A",
                      "#19d3f3",
                      "#FF6692",
                      "#B6E880",
                      "#FF97FF",
                      "#FECB52"
                    ],
                    "font": {
                      "color": "#2a3f5f"
                    },
                    "geo": {
                      "bgcolor": "white",
                      "lakecolor": "white",
                      "landcolor": "#E5ECF6",
                      "showlakes": true,
                      "showland": true,
                      "subunitcolor": "white"
                    },
                    "hoverlabel": {
                      "align": "left"
                    },
                    "hovermode": "closest",
                    "mapbox": {
                      "style": "light"
                    },
                    "paper_bgcolor": "white",
                    "plot_bgcolor": "#E5ECF6",
                    "polar": {
                      "angularaxis": {
                        "gridcolor": "white",
                        "linecolor": "white",
                        "ticks": ""
                      },
                      "bgcolor": "#E5ECF6",
                      "radialaxis": {
                        "gridcolor": "white",
                        "linecolor": "white",
                        "ticks": ""
                      }
                    },
                    "scene": {
                      "xaxis": {
                        "backgroundcolor": "#E5ECF6",
                        "gridcolor": "white",
                        "gridwidth": 2,
                        "linecolor": "white",
                        "showbackground": true,
                        "ticks": "",
                        "zerolinecolor": "white"
                      },
                      "yaxis": {
                        "backgroundcolor": "#E5ECF6",
                        "gridcolor": "white",
                        "gridwidth": 2,
                        "linecolor": "white",
                        "showbackground": true,
                        "ticks": "",
                        "zerolinecolor": "white"
                      },
                      "zaxis": {
                        "backgroundcolor": "#E5ECF6",
                        "gridcolor": "white",
                        "gridwidth": 2,
                        "linecolor": "white",
                        "showbackground": true,
                        "ticks": "",
                        "zerolinecolor": "white"
                      }
                    },
                    "shapedefaults": {
                      "line": {
                        "color": "#2a3f5f"
                      }
                    },
                    "ternary": {
                      "aaxis": {
                        "gridcolor": "white",
                        "linecolor": "white",
                        "ticks": ""
                      },
                      "baxis": {
                        "gridcolor": "white",
                        "linecolor": "white",
                        "ticks": ""
                      },
                      "bgcolor": "#E5ECF6",
                      "caxis": {
                        "gridcolor": "white",
                        "linecolor": "white",
                        "ticks": ""
                      }
                    },
                    "title": {
                      "x": 0.05
                    },
                    "xaxis": {
                      "automargin": true,
                      "gridcolor": "white",
                      "linecolor": "white",
                      "ticks": "",
                      "title": {
                        "standoff": 15
                      },
                      "zerolinecolor": "white",
                      "zerolinewidth": 2
                    },
                    "yaxis": {
                      "automargin": true,
                      "gridcolor": "white",
                      "linecolor": "white",
                      "ticks": "",
                      "title": {
                        "standoff": 15
                      },
                      "zerolinecolor": "white",
                      "zerolinewidth": 2
                    }
                  }
                },
                "title": {
                  "font": {
                    "size": 18
                  },
                  "text": "Simulación: Álbum Mundial Qatar 2022 (100 simulaciones)",
                  "x": 0.5
                },
                "xaxis": {
                  "anchor": "y",
                  "domain": [
                    0,
                    1
                  ]
                },
                "xaxis2": {
                  "anchor": "y2",
                  "domain": [
                    0,
                    0.45
                  ]
                },
                "yaxis": {
                  "anchor": "x",
                  "domain": [
                    0.56,
                    1
                  ]
                },
                "yaxis2": {
                  "anchor": "x2",
                  "domain": [
                    0,
                    0.44
                  ]
                }
              }
            }
          },
          "metadata": {},
          "output_type": "display_data"
        }
      ],
      "source": [
        "# ----------------------------\n",
        "# EJECUCIÓN PRINCIPAL\n",
        "# ----------------------------\n",
        "resultados_mundial, promedio = ejecutar_simulacion(FIGUS_TOTAL, FIGUS_PAQUETE, N)\n",
        "\n",
        "fig_principal = crear_visualizaciones_interactivas(\n",
        "    resultados_mundial, promedio, FIGUS_TOTAL, FIGUS_PAQUETE\n",
        ")"
      ]
    }
  ],
  "metadata": {
    "colab": {
      "include_colab_link": true,
      "provenance": [],
      "toc_visible": true
    },
    "kernelspec": {
      "display_name": "Python 3",
      "language": "python",
      "name": "python3"
    },
    "language_info": {
      "codemirror_mode": {
        "name": "ipython",
        "version": 3
      },
      "file_extension": ".py",
      "mimetype": "text/x-python",
      "name": "python",
      "nbconvert_exporter": "python",
      "pygments_lexer": "ipython3",
      "version": "3.13.7"
    }
  },
  "nbformat": 4,
  "nbformat_minor": 0
}
